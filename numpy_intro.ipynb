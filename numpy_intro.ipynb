{
 "cells": [
  {
   "metadata": {
    "collapsed": true
   },
   "cell_type": "code",
   "source": "import numpy as np # np is a commonly used alias for the numpy library",
   "id": "e8efc27ab0f33a29",
   "outputs": [],
   "execution_count": null
  },
  {
   "metadata": {},
   "cell_type": "markdown",
   "source": [
    "## Introduction to NumPy\n",
    "\n",
    "___\n",
    "\n",
    "NumPy is a Python library that provides support for large, **multi-dimensional arrays and matrices**, along with a collection of mathematical functions to operate on these arrays. NumPy is your first choice for linear algebra and scientific computing in Python.\n",
    "\n",
    "<center>\n",
    "<img src=\"imgs/numpy.png\" width=400>\n",
    "</center>\n",
    "\n",
    "The core data structure in NumPy is the **ndarray** (n-dimensional array), which is a grid of values, all the same type, indexed by a tuple of non-negative integers. **The same grid of values could be represented with Python lists only!** In this notebook, however, we will see why NumPy arrays are so much more convenient for numerical computations than native Python data structures.\n",
    "\n",
    "___\n",
    "\n",
    "Below is some code that creates a simple NumPy array compares it to a native Python list."
   ],
   "id": "36b5814572fc91c3"
  },
  {
   "metadata": {},
   "cell_type": "code",
   "source": [
    "some_numbers = [1, 1, 2, 3, 5, 8, 13, 21] # This is a Python list\n",
    "some_numbers_array = np.array(some_numbers) # This is a NumPy array\n",
    "\n",
    "# Let's print the type of both the list and the array\n",
    "print(\"Type of some_numbers:\", type(some_numbers))\n",
    "print(\"Type of some_numbers_array:\", type(some_numbers_array))\n",
    "\n",
    "# We can iterate over both of them\n",
    "print(\"Iterating over the Python list:\")\n",
    "for number in some_numbers:\n",
    "    print(number, end=' ')\n",
    "\n",
    "print(\"\\nIterating over the NumPy array:\")\n",
    "for number in some_numbers_array:\n",
    "    print(number, end=' ')\n",
    "\n",
    "# Print the length of both the list and the array\n",
    "print(\"Length of the Python list:\", len(some_numbers))\n",
    "print(\"Length of the NumPy array:\", len(some_numbers_array))"
   ],
   "id": "3b76aa826ed26886",
   "outputs": [],
   "execution_count": null
  },
  {
   "metadata": {},
   "cell_type": "markdown",
   "source": [
    "### Why use NumPy when we have python lists?\n",
    "NumPy arrays are faster and more memory efficient than Python lists. NumPy arrays are also homogeneous: all elements of a NumPy array have the same data type. This allows NumPy to perform operations on arrays much faster than Python lists. In machine learning and data science, where you often work with large datasets, you will quickly find yourself unable to compute anything in reasonable timeframes using only native Python data structures.\n",
    "\n",
    "### Let's compare the performance of NumPy arrays and Python lists on a simple task:"
   ],
   "id": "c7523eb2d1350166"
  },
  {
   "metadata": {},
   "cell_type": "code",
   "source": [
    "from math import sqrt, cos \n",
    "import time \n",
    "\n",
    "# With Python lists\n",
    "start_time = time.time() # Record the start time\n",
    "\n",
    "# Create a list of integers up to 1 000 000\n",
    "data = range(1000000)\n",
    "\n",
    "# Perform some operation on the dataset (first take the square root, then find the cosine)\n",
    "list_results = []\n",
    "for x in data:\n",
    "    list_results.append(cos(sqrt(x)))\n",
    "\n",
    "time_elapsed_python = time.time() - start_time # Calculate the time elapsed\n",
    "\n",
    "print(\"First 5 elements of the results:\")\n",
    "print(list_results[:5])\n",
    "print(\"Time elapsed using Python lists:\", round(time_elapsed_python*1000), \"miliseconds\")"
   ],
   "id": "4c0ec0267d5146d0",
   "outputs": [],
   "execution_count": null
  },
  {
   "metadata": {},
   "cell_type": "code",
   "source": [
    "# With NumPy arrays\n",
    "\n",
    "start_time = time.time() # Record the start time\n",
    "\n",
    "# Create an array of integers up to 1 000 000\n",
    "data = range(1000000)\n",
    "data = np.array(data)\n",
    "\n",
    "# Perform some operation on the dataset (first take the square root, then find the cosine)\n",
    "numpy_results = np.cos(np.sqrt(data))\n",
    "\n",
    "time_elapsed_numpy = time.time() - start_time # Calculate the time elapsed\n",
    "\n",
    "print(\"First 5 elements of the results:\")\n",
    "print(numpy_results[:5])\n",
    "print(\"Time elapsed using NumPy arrays:\", round(time_elapsed_numpy*1000), \"miliseconds\")\n",
    "print(\"NumPy was\", round(time_elapsed_python/time_elapsed_numpy, 2), \"times faster than Python lists in this task\")"
   ],
   "id": "534d052442fb64bc",
   "outputs": [],
   "execution_count": null
  },
  {
   "metadata": {},
   "cell_type": "markdown",
   "source": [
    "### Basics of NumPy arrays\n",
    "\n",
    "A one-dimensional array will often be called a **vector**.\n",
    "\n",
    "NumPy arrays are created using the `np.array` function. This function takes an array (such as a Python list) and returns a superfast NumPy array. \n",
    "\n",
    "The elements of a NumPy array are accessed using square brackets and indexed from zero, just like Python lists."
   ],
   "id": "352bd650a1358e40"
  },
  {
   "metadata": {},
   "cell_type": "code",
   "source": [
    "some_numbers = [0.1, 0.2, 0.4, 0.2, 0.8, 1.2, 0.7, 0.1, 0.9, 0.3]\n",
    "vector = np.array(some_numbers)\n",
    "\n",
    "print(\"First element of the array:\", vector[0])\n",
    "print(\"Third element of the array:\", vector[2])\n",
    "print(\"Last element of the array:\", vector[-1])\n",
    "print(\"Second to fourth elements of the array:\", vector[1:4])"
   ],
   "id": "dd4f348eea08f6de",
   "outputs": [],
   "execution_count": null
  },
  {
   "metadata": {},
   "cell_type": "code",
   "source": [
    "# You can create an array of zeros, ones, random numbers, or a range of numbers using NumPy functions. Those are faster than passing a list to np.array.\n",
    "\n",
    "zero_array = np.zeros(5)\n",
    "print(\"Zero array:\", zero_array)\n",
    "\n",
    "ones_array = np.ones(5)\n",
    "print(\"Ones array:\", ones_array)\n",
    "\n",
    "random_array = np.random.rand(5)\n",
    "print(\"Random array:\", random_array)\n",
    "\n",
    "range_array = np.arange(0, 18, 3) # Start at 0, stop before 18, step by 3\n",
    "print(\"Range array:\", range_array)"
   ],
   "id": "6031d68ddc9b1dd2",
   "outputs": [],
   "execution_count": null
  },
  {
   "metadata": {},
   "cell_type": "code",
   "source": [
    "# Calculations with NumPy arrays are vectorized, meaning that you can perform operations on entire arrays at once.\n",
    "# Let's create two arrays and add them together.\n",
    "\n",
    "first_array = np.array([1, 1, 2, 3, 5, 8, 13, 21, 34, 55])\n",
    "second_array = np.array([2, 3, 5, 7, 11, 13, 17, 19, 23, 29])\n",
    "\n",
    "sum_array = first_array + second_array\n",
    "print(\"Sum of the arrays:\", sum_array)\n",
    "\n",
    "# You can also multiply, subtract, divide, and apply other mathematical operations to arrays.\n",
    "\n",
    "product_array = first_array * second_array\n",
    "print(\"Product of the arrays:\", product_array)\n",
    "\n",
    "# Note that the above operations do not work on native Python lists. What would happen if you tried to add two Python lists together? In what way is this different from adding two NumPy arrays?"
   ],
   "id": "8b487ae2338da7d0",
   "outputs": [],
   "execution_count": null
  },
  {
   "metadata": {},
   "cell_type": "code",
   "source": [
    "#  We can apply mathematical functions to entire arrays as well. For example, let's apply the sigmoid function to an array. Sigmoid function 'squishes' all real numbers into the range (0, 1) and is commonly used in machine learning, for various purposes.\n",
    "\n",
    "def sigmoid(x):\n",
    "    return 1 / (1 + np.exp(-x))\n",
    "\n",
    "sigmoid_array = sigmoid(first_array)\n",
    "print(\"Sigmoid array:\", sigmoid_array)"
   ],
   "id": "5c8548aaead4ad7a",
   "outputs": [],
   "execution_count": null
  },
  {
   "metadata": {},
   "cell_type": "markdown",
   "source": [
    "### Multi-dimensional arrays\n",
    "\n",
    "A two-dimensional array will often be called a **matrix**. You can create a matrix by passing a list of lists to `np.array`. The outer list represents the **rows of the matrix**, and the inner lists represent the **elements in each row**."
   ],
   "id": "454b49a7d5ccb7b9"
  },
  {
   "metadata": {},
   "cell_type": "code",
   "source": [
    "matrix = np.array([[1, 2, 3], [4, 5, 6], [7, 8, 9]])\n",
    "print(matrix)\n",
    "\n",
    "# You can access elements in a matrix by providing the row and column indices in square brackets.\n",
    "\n",
    "print(\"First element of the first row:\", matrix[0, 0]) \n",
    "print(\"Second element of the third row:\", matrix[2, 1])\n",
    "\n",
    "# You can also access entire rows or columns using the `:` symbol.\n",
    "\n",
    "print(\"First row:\", matrix[0, :])\n",
    "print(\"Second column:\", matrix[:, 1])"
   ],
   "id": "b3acd6aa34fdf4dc",
   "outputs": [],
   "execution_count": null
  },
  {
   "metadata": {},
   "cell_type": "markdown",
   "source": [
    "### Shape of an array\n",
    "\n",
    "Trying to visualise higher-dimensional arrays can be a bit tricky. A 3-dimensional array can be thought of as a cube of numbers, a 4-dimensional array as a cube of cubes of numbers, and so on. A generalisation of a matrix to more than two dimensions is called a **tensor**, and you will soon encounter them in the context of deep learning. A **vector** is a tensor of **rank 1**, a **matrix** is a tensor of **rank 2**, and so on.\n",
    "\n",
    "Instead of trying to wrap one's head around multidimensional hypercubes, it's often easier to think of tensors in terms of their **shape**. The shape of an array tells you how many elements there are in each dimension. You can access the shape of an array using the `shape` attribute.\n",
    "\n",
    "So, for example, a vector of 10 numbers has shape `(10)` a 3x4 matrix has shape `(3, 4)`, a 2x2x2 cube of numbers has shape `(2, 2, 2)`."
   ],
   "id": "2c553b5aa52df685"
  },
  {
   "metadata": {},
   "cell_type": "code",
   "source": "print(\"Shape of the matrix:\", matrix.shape)",
   "id": "2fa9fa55cfb03bdd",
   "outputs": [],
   "execution_count": null
  },
  {
   "metadata": {},
   "cell_type": "markdown",
   "source": [
    "### Reshaping arrays\n",
    "\n",
    "You can change the shape of an array using the `reshape` method. The total number of elements in the array must remain the same when reshaping. For example, a matrix of shape (4, 4) has 16 elements, as it is a 4x4 table.\n",
    "\n",
    "The simplest reshaping operation is to **flatten a multi-dimensional array into a one-dimensional array**. This is like cutting the 4x4 matrix into rows and laying them out in a single line. You can see this executed below:\n"
   ],
   "id": "1180122ee5b6214a"
  },
  {
   "metadata": {},
   "cell_type": "code",
   "source": [
    "import numpy as np\n",
    "matrix = np.array([[0, 1, 2, 3],\n",
    "                   [4, 5, 6, 7],\n",
    "                   [8, 9, 10, 11],\n",
    "                   [12, 13, 14, 15]])\n",
    "print(f\"Original matrix of shape {matrix.shape}:\")\n",
    "print(matrix, '\\n')\n",
    "\n",
    "flattened = matrix.reshape(16) # Reshape to a one-dimensional array with 16 elements\n",
    "print(f\"Flattened array of shape {flattened.shape}:\")\n",
    "print(flattened)"
   ],
   "id": "36efb1152de4f4eb",
   "outputs": [],
   "execution_count": null
  },
  {
   "metadata": {},
   "cell_type": "markdown",
   "source": [
    "Of course, you can reshape arrays into any shape **as long as the total number of elements remains the same**. For example, we can reshape the above 4x4 matrix into a 4x2x2 tensor (4 matrices of shape 2x2) if we think it represents our data better for some reason.\n",
    "\n",
    "<center>\n",
    "<img src=\"imgs/reshaping.png\" width=600>\n",
    "</center>"
   ],
   "id": "d244ae17558c93d"
  },
  {
   "metadata": {},
   "cell_type": "code",
   "source": [
    "import numpy as np\n",
    "matrix = np.array([[0, 1, 2, 3],\n",
    "                   [4, 5, 6, 7],\n",
    "                   [8, 9, 10, 11],\n",
    "                   [12, 13, 14, 15]])\n",
    "print(f\"Original matrix of shape {matrix.shape}:\")\n",
    "print(matrix, '\\n')\n",
    "\n",
    "reshaped = matrix.reshape(4, 2, 2) # Reshape to a 3-dimensional array with shape (4, 2, 2)\n",
    "print(f\"Reshaped tensor of shape {reshaped.shape}:\")\n",
    "print(reshaped)"
   ],
   "id": "5862654120aa6a19",
   "outputs": [],
   "execution_count": null
  },
  {
   "metadata": {},
   "cell_type": "markdown",
   "source": [
    "### Concatenation (joining) of arrays\n",
    "\n",
    "Let's imagine we have matrix A of shape (3, 3), and we want to add a new row to it. We can do this by creating a new matrix B and using the `np.concatenate` function to join the two matrices. The `axis` parameter specifies the axis along which the arrays will be joined. If `axis=0`, the arrays will be joined along rows, and if `axis=1`, the arrays will be joined along columns. \n",
    "\n",
    "Note that, when adding new rows to a matrix, the number of columns must be the same in order to retain a rectangular shape of a matrix. Similarly, when adding new columns, the number of rows must match. Remember that the dimensions of the arrays you are joining must **match at all but the joining axis**. So we can join an array of shape (3, 3, 2) with an array of shape (1, 3, 2) along axis 0, but not along axis 1."
   ],
   "id": "e354caffe720080f"
  },
  {
   "metadata": {},
   "cell_type": "code",
   "source": [
    "matrix = np.array([[1, 2, 3], [4, 5, 6], [7, 8, 9]])\n",
    "print(\"Shape of the matrix A:\", matrix.shape, '\\n')\n",
    "\n",
    "new_row = np.array([[10, 11, 12]])\n",
    "print(\"Shape of the new row:\", new_row.shape)\n",
    "print(\"matches along axis 1 (columns), so we can join them along axis 0 (by rows)\\n\")\n",
    "\n",
    "new_matrix = np.concatenate([matrix, new_row], axis=0)\n",
    "print(\"New matrix:\")\n",
    "print(new_matrix)\n",
    "print(\"Shape of the new matrix:\", new_matrix.shape)"
   ],
   "id": "e119461e47697862",
   "outputs": [],
   "execution_count": null
  }
 ],
 "metadata": {
  "kernelspec": {
   "display_name": "Python 3",
   "language": "python",
   "name": "python3"
  },
  "language_info": {
   "codemirror_mode": {
    "name": "ipython",
    "version": 2
   },
   "file_extension": ".py",
   "mimetype": "text/x-python",
   "name": "python",
   "nbconvert_exporter": "python",
   "pygments_lexer": "ipython2",
   "version": "2.7.6"
  }
 },
 "nbformat": 4,
 "nbformat_minor": 5
}
